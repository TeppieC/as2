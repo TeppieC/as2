{
 "cells": [
  {
   "cell_type": "code",
   "execution_count": 13,
   "metadata": {},
   "outputs": [
    {
     "name": "stdout",
     "output_type": "stream",
     "text": [
      "Running on train=1000 and test=5000 samples for run 0\n",
      "Running learner = Random on parameters {}\n",
      "Error for Random: 0.6808283678782416\n",
      "Running learner = Mean on parameters {}\n",
      "Error for Mean: 0.31382560195224557\n",
      "Running learner = FSLinearRegression5 on parameters {'features': [1, 2, 3, 4, 5]}\n",
      "Error for FSLinearRegression5: 0.4834212448800744\n",
      "Running learner = FSLinearRegression50 on parameters {'features': range(0, 50)}\n",
      "Error for FSLinearRegression50: 0.20593788768142007\n",
      "Running learner = RidgeLinearRegression on parameters {'regwgt': 0.0}\n",
      "Error for RidgeLinearRegression: 0.6791727197288019\n",
      "Running learner = Random on parameters {}\n",
      "Error for Random: 0.6614393245547966\n",
      "Running learner = Mean on parameters {}\n",
      "Error for Mean: 0.31382560195224557\n",
      "Running learner = FSLinearRegression5 on parameters {'features': [1, 2, 3, 4, 5]}\n",
      "Error for FSLinearRegression5: 0.4834212448800744\n",
      "Running learner = FSLinearRegression50 on parameters {'features': range(0, 50)}\n",
      "Error for FSLinearRegression50: 0.20593788768142007\n",
      "Running learner = RidgeLinearRegression on parameters {'regwgt': 0.01}\n",
      "Error for RidgeLinearRegression: 0.6887470707570473\n",
      "Running learner = Random on parameters {}\n",
      "Error for Random: 0.7113768956194748\n",
      "Running learner = Mean on parameters {}\n",
      "Error for Mean: 0.31382560195224557\n",
      "Running learner = FSLinearRegression5 on parameters {'features': [1, 2, 3, 4, 5]}\n",
      "Error for FSLinearRegression5: 0.4834212448800744\n",
      "Running learner = FSLinearRegression50 on parameters {'features': range(0, 50)}\n",
      "Error for FSLinearRegression50: 0.20593788768142007\n",
      "Running learner = RidgeLinearRegression on parameters {'regwgt': 1.0}\n",
      "Error for RidgeLinearRegression: 0.7414021858809688\n",
      "Average error for Random: 0.6614393245547966\n",
      "Average error for Mean: 0.31382560195224557\n",
      "Average error for FSLinearRegression5: 0.4834212448800744\n",
      "Average error for FSLinearRegression50: 0.20593788768142007\n",
      "Average error for RidgeLinearRegression: 0.6791727197288019\n"
     ]
    }
   ],
   "source": [
    "%run script_regression.py"
   ]
  },
  {
   "cell_type": "markdown",
   "metadata": {},
   "source": [
    "#### The above is ridge regression, while the below is the OLS regression\n",
    "Compared with a), the ridge regression with lambda of 0.1, has a **lower error** thus a **better prediction** performance."
   ]
  },
  {
   "cell_type": "code",
   "execution_count": 10,
   "metadata": {},
   "outputs": [
    {
     "name": "stdout",
     "output_type": "stream",
     "text": [
      "Running on train=1000 and test=5000 samples for run 0\n",
      "Running learner = Random on parameters {}\n",
      "Error for Random: 0.7153661821869952\n",
      "Running learner = Mean on parameters {}\n",
      "Error for Mean: 0.31700849179491725\n",
      "Running learner = FSLinearRegression5 on parameters {'features': [1, 2, 3, 4, 5]}\n",
      "Error for FSLinearRegression5: 0.482541429397335\n",
      "Running learner = FSLinearRegression50 on parameters {'features': range(0, 50)}\n",
      "Error for FSLinearRegression50: 0.2050617796517807\n",
      "Running learner = RidgeLinearRegression on parameters {'regwgt': 0.0}\n",
      "Error for RidgeLinearRegression: 0.7570266519618171\n",
      "Running learner = Random on parameters {}\n",
      "Error for Random: 0.7483459967010077\n",
      "Running learner = Mean on parameters {}\n",
      "Error for Mean: 0.31700849179491725\n",
      "Running learner = FSLinearRegression5 on parameters {'features': [1, 2, 3, 4, 5]}\n",
      "Error for FSLinearRegression5: 0.482541429397335\n",
      "Running learner = FSLinearRegression50 on parameters {'features': range(0, 50)}\n",
      "Error for FSLinearRegression50: 0.2050617796517807\n",
      "Running learner = RidgeLinearRegression on parameters {'regwgt': 0.01}\n",
      "Error for RidgeLinearRegression: 0.7220134588486563\n",
      "Running learner = Random on parameters {}\n",
      "Error for Random: 0.7370598474683072\n",
      "Running learner = Mean on parameters {}\n",
      "Error for Mean: 0.31700849179491725\n",
      "Running learner = FSLinearRegression5 on parameters {'features': [1, 2, 3, 4, 5]}\n",
      "Error for FSLinearRegression5: 0.482541429397335\n",
      "Running learner = FSLinearRegression50 on parameters {'features': range(0, 50)}\n",
      "Error for FSLinearRegression50: 0.2050617796517807\n",
      "Running learner = RidgeLinearRegression on parameters {'regwgt': 1.0}\n",
      "Error for RidgeLinearRegression: 0.702397189953846\n",
      "Average error for Random: 0.7153661821869952\n",
      "Average error for Mean: 0.31700849179491725\n",
      "Average error for FSLinearRegression5: 0.482541429397335\n",
      "Average error for FSLinearRegression50: 0.2050617796517807\n",
      "Average error for RidgeLinearRegression: 0.702397189953846\n",
      "18.2 s ± 0 ns per loop (mean ± std. dev. of 1 run, 1 loop each)\n"
     ]
    }
   ],
   "source": [
    "%%timeit -n 1 -r 1\n",
    "%run script_regression.py"
   ]
  },
  {
   "cell_type": "code",
   "execution_count": null,
   "metadata": {},
   "outputs": [],
   "source": []
  }
 ],
 "metadata": {
  "kernelspec": {
   "display_name": "Python 3",
   "language": "python",
   "name": "python3"
  },
  "language_info": {
   "codemirror_mode": {
    "name": "ipython",
    "version": 3
   },
   "file_extension": ".py",
   "mimetype": "text/x-python",
   "name": "python",
   "nbconvert_exporter": "python",
   "pygments_lexer": "ipython3",
   "version": "3.7.0"
  }
 },
 "nbformat": 4,
 "nbformat_minor": 2
}
