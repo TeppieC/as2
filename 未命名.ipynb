{
 "cells": [
  {
   "cell_type": "code",
   "execution_count": 1,
   "metadata": {},
   "outputs": [
    {
     "name": "stdout",
     "output_type": "stream",
     "text": [
      "Running on train=1000 and test=5000 samples for run 0\n",
      "Running learner = Random on parameters {}\n",
      "Error for Random: 0.7480461553651345\n",
      "Running learner = Mean on parameters {}\n",
      "Error for Mean: 0.3151029260708254\n",
      "Running learner = FSLinearRegression5 on parameters {'features': [1, 2, 3, 4, 5]}\n",
      "Error for FSLinearRegression5: 0.49237554866286737\n",
      "Running learner = FSLinearRegression50 on parameters {'features': range(0, 50)}\n",
      "Error for FSLinearRegression50: 0.2061801749656456\n",
      "Running learner = RidgeLinearRegression on parameters {'regwgt': 0.01}\n",
      "Error for RidgeLinearRegression: 0.130945883214283\n",
      "Running learner = LassoRegression on parameters {'regwgt': 0.01}\n",
      "Error for LassoRegression: 0.130945883214283\n",
      "Running learner = Random on parameters {}\n",
      "Error for Random: 0.7391021510381784\n",
      "Running learner = Mean on parameters {}\n",
      "Error for Mean: 0.3151029260708254\n",
      "Running learner = FSLinearRegression5 on parameters {'features': [1, 2, 3, 4, 5]}\n",
      "Error for FSLinearRegression5: 0.49237554866286737\n",
      "Running learner = FSLinearRegression50 on parameters {'features': range(0, 50)}\n",
      "Error for FSLinearRegression50: 0.2061801749656456\n",
      "Running learner = RidgeLinearRegression on parameters {'regwgt': 0.1}\n",
      "Error for RidgeLinearRegression: 0.13740627092122906\n",
      "Running learner = LassoRegression on parameters {'regwgt': 0.1}\n",
      "Error for LassoRegression: 0.13740627092122906\n",
      "Running learner = Random on parameters {}\n",
      "Error for Random: 0.727888585670927\n",
      "Running learner = Mean on parameters {}\n",
      "Error for Mean: 0.3151029260708254\n",
      "Running learner = FSLinearRegression5 on parameters {'features': [1, 2, 3, 4, 5]}\n",
      "Error for FSLinearRegression5: 0.49237554866286737\n",
      "Running learner = FSLinearRegression50 on parameters {'features': range(0, 50)}\n",
      "Error for FSLinearRegression50: 0.2061801749656456\n",
      "Running learner = RidgeLinearRegression on parameters {'regwgt': 1.0}\n",
      "Error for RidgeLinearRegression: 0.18884632664720943\n",
      "Running learner = LassoRegression on parameters {'regwgt': 1.0}\n",
      "Error for LassoRegression: 0.18884632664720943\n",
      "Average error for Random: 0.727888585670927\n",
      "Average error for Mean: 0.3151029260708254\n",
      "Average error for FSLinearRegression5: 0.49237554866286737\n",
      "Average error for FSLinearRegression50: 0.2061801749656456\n",
      "Average error for RidgeLinearRegression: 0.130945883214283\n",
      "Average error for LassoRegression: 0.130945883214283\n"
     ]
    }
   ],
   "source": [
    "%run script_regression.py"
   ]
  }
 ],
 "metadata": {
  "kernelspec": {
   "display_name": "Python 3",
   "language": "python",
   "name": "python3"
  },
  "language_info": {
   "codemirror_mode": {
    "name": "ipython",
    "version": 3
   },
   "file_extension": ".py",
   "mimetype": "text/x-python",
   "name": "python",
   "nbconvert_exporter": "python",
   "pygments_lexer": "ipython3",
   "version": "3.7.0"
  }
 },
 "nbformat": 4,
 "nbformat_minor": 2
}
